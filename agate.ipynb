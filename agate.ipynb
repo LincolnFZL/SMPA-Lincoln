{
 "cells": [
  {
   "cell_type": "code",
   "execution_count": 22,
   "metadata": {
    "collapsed": false
   },
   "outputs": [
    {
     "name": "stdout",
     "output_type": "stream",
     "text": [
      "name_raw            county_total\n",
      "Peter Franchot         1,061,267 ▓░░░░░░░░░░░░░░░░░░░░░░░░                      \n",
      "Brian E. Frosh           935,846 ▓░░░░░░░░░░░░░░░░░░░░░░                        \n",
      "Larry Hogan              884,400 ▓░░░░░░░░░░░░░░░░░░░░                          \n",
      "Anthony G. Brown         818,890 ▓░░░░░░░░░░░░░░░░░░░                           \n",
      "Jeffrey N. Pritzker      682,265 ▓░░░░░░░░░░░░░░░░                              \n",
      "William H. Campbell      630,109 ▓░░░░░░░░░░░░░░                                \n",
      "Andy Harris              176,342 ▓░░░░                                          \n",
      "Steny H. Hoyer           144,725 ▓░░░                                           \n",
      "Elijah Cummings          144,639 ▓░░░                                           \n",
      "Chris Van Hollen         136,722 ▓░░░                                           \n",
      "                                 +-----------+----------+----------------------+\n",
      "                                 0        500,000   1,000,000          2,000,000\n"
     ]
    }
   ],
   "source": [
    "totals.limit(10).print_bars('name_raw', 'county_total', width=80)"
   ]
  }
 ],
 "metadata": {
  "kernelspec": {
   "display_name": "Python 2",
   "language": "python",
   "name": "python2"
  },
  "language_info": {
   "codemirror_mode": {
    "name": "ipython",
    "version": 2
   },
   "file_extension": ".py",
   "mimetype": "text/x-python",
   "name": "python",
   "nbconvert_exporter": "python",
   "pygments_lexer": "ipython2",
   "version": "2.7.10"
  }
 },
 "nbformat": 4,
 "nbformat_minor": 2
}
